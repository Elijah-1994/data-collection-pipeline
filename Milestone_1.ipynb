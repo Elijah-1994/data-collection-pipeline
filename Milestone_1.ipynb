{
 "cells": [
  {
   "cell_type": "code",
   "execution_count": 1,
   "metadata": {},
   "outputs": [],
   "source": [
    "from selenium import webdriver\n",
    "from selenium.webdriver.common.by import By\n",
    "import time\n",
    "from selenium.webdriver.common.keys import Keys"
   ]
  },
  {
   "cell_type": "code",
   "execution_count": 2,
   "metadata": {},
   "outputs": [
    {
     "ename": "NoSuchWindowException",
     "evalue": "Message: no such window: target window already closed\nfrom unknown error: web view not found\n  (Session info: chrome=107.0.5304.107)\nStacktrace:\nBacktrace:\n\tOrdinal0 [0x00A9ACD3+2075859]\n\tOrdinal0 [0x00A2EE61+1633889]\n\tOrdinal0 [0x0092B7BD+571325]\n\tOrdinal0 [0x00912E1A+470554]\n\tOrdinal0 [0x0097AA0B+895499]\n\tOrdinal0 [0x0098AC96+961686]\n\tOrdinal0 [0x00977136+880950]\n\tOrdinal0 [0x0094FEFD+720637]\n\tOrdinal0 [0x00950F3F+724799]\n\tGetHandleVerifier [0x00D4EED2+2769538]\n\tGetHandleVerifier [0x00D40D95+2711877]\n\tGetHandleVerifier [0x00B2A03A+521194]\n\tGetHandleVerifier [0x00B28DA0+516432]\n\tOrdinal0 [0x00A3682C+1665068]\n\tOrdinal0 [0x00A3B128+1683752]\n\tOrdinal0 [0x00A3B215+1683989]\n\tOrdinal0 [0x00A46484+1729668]\n\tBaseThreadInitThunk [0x75F1FEF9+25]\n\tRtlGetAppContainerNamedObjectPath [0x773F7BBE+286]\n\tRtlGetAppContainerNamedObjectPath [0x773F7B8E+238]\n",
     "output_type": "error",
     "traceback": [
      "\u001b[1;31m---------------------------------------------------------------------------\u001b[0m",
      "\u001b[1;31mNoSuchWindowException\u001b[0m                     Traceback (most recent call last)",
      "\u001b[1;32mc:\\Users\\kenza\\OneDrive\\Desktop\\GitBash\\data-collection-pipeline\\Milestone_1.ipynb Cell 2\u001b[0m in \u001b[0;36m<cell line: 84>\u001b[1;34m()\u001b[0m\n\u001b[0;32m     <a href='vscode-notebook-cell:/c%3A/Users/kenza/OneDrive/Desktop/GitBash/data-collection-pipeline/Milestone_1.ipynb#W1sZmlsZQ%3D%3D?line=81'>82</a>\u001b[0m         scrapper\u001b[39m.\u001b[39mget_links_manga_page_2_to_page_5()\n\u001b[0;32m     <a href='vscode-notebook-cell:/c%3A/Users/kenza/OneDrive/Desktop/GitBash/data-collection-pipeline/Milestone_1.ipynb#W1sZmlsZQ%3D%3D?line=83'>84</a>\u001b[0m \u001b[39mif\u001b[39;00m \u001b[39m__name__\u001b[39m \u001b[39m==\u001b[39m \u001b[39m'\u001b[39m\u001b[39m__main__\u001b[39m\u001b[39m'\u001b[39m:\n\u001b[1;32m---> <a href='vscode-notebook-cell:/c%3A/Users/kenza/OneDrive/Desktop/GitBash/data-collection-pipeline/Milestone_1.ipynb#W1sZmlsZQ%3D%3D?line=84'>85</a>\u001b[0m     scrapper_method()\n",
      "\u001b[1;32mc:\\Users\\kenza\\OneDrive\\Desktop\\GitBash\\data-collection-pipeline\\Milestone_1.ipynb Cell 2\u001b[0m in \u001b[0;36mscrapper_method\u001b[1;34m()\u001b[0m\n\u001b[0;32m     <a href='vscode-notebook-cell:/c%3A/Users/kenza/OneDrive/Desktop/GitBash/data-collection-pipeline/Milestone_1.ipynb#W1sZmlsZQ%3D%3D?line=78'>79</a>\u001b[0m scrapper\u001b[39m.\u001b[39maccept_cookies()\n\u001b[0;32m     <a href='vscode-notebook-cell:/c%3A/Users/kenza/OneDrive/Desktop/GitBash/data-collection-pipeline/Milestone_1.ipynb#W1sZmlsZQ%3D%3D?line=79'>80</a>\u001b[0m scrapper\u001b[39m.\u001b[39mnavigate_to_manga_page_1()\n\u001b[1;32m---> <a href='vscode-notebook-cell:/c%3A/Users/kenza/OneDrive/Desktop/GitBash/data-collection-pipeline/Milestone_1.ipynb#W1sZmlsZQ%3D%3D?line=80'>81</a>\u001b[0m scrapper\u001b[39m.\u001b[39;49mget_links_manga_page_1()\n\u001b[0;32m     <a href='vscode-notebook-cell:/c%3A/Users/kenza/OneDrive/Desktop/GitBash/data-collection-pipeline/Milestone_1.ipynb#W1sZmlsZQ%3D%3D?line=81'>82</a>\u001b[0m scrapper\u001b[39m.\u001b[39mget_links_manga_page_2_to_page_5()\n",
      "\u001b[1;32mc:\\Users\\kenza\\OneDrive\\Desktop\\GitBash\\data-collection-pipeline\\Milestone_1.ipynb Cell 2\u001b[0m in \u001b[0;36mWaterstonesScrapper.get_links_manga_page_1\u001b[1;34m(self)\u001b[0m\n\u001b[0;32m     <a href='vscode-notebook-cell:/c%3A/Users/kenza/OneDrive/Desktop/GitBash/data-collection-pipeline/Milestone_1.ipynb#W1sZmlsZQ%3D%3D?line=41'>42</a>\u001b[0m \u001b[39mdef\u001b[39;00m \u001b[39mget_links_manga_page_1\u001b[39m(\u001b[39mself\u001b[39m):\n\u001b[1;32m---> <a href='vscode-notebook-cell:/c%3A/Users/kenza/OneDrive/Desktop/GitBash/data-collection-pipeline/Milestone_1.ipynb#W1sZmlsZQ%3D%3D?line=42'>43</a>\u001b[0m     navigate_to_manga_page_1 \u001b[39m=\u001b[39m \u001b[39mself\u001b[39;49m\u001b[39m.\u001b[39;49mnavigate_to_manga_page_1()\n\u001b[0;32m     <a href='vscode-notebook-cell:/c%3A/Users/kenza/OneDrive/Desktop/GitBash/data-collection-pipeline/Milestone_1.ipynb#W1sZmlsZQ%3D%3D?line=43'>44</a>\u001b[0m     \u001b[39mself\u001b[39m\u001b[39m.\u001b[39mdriver\u001b[39m.\u001b[39mget(navigate_to_manga_page_1)\n\u001b[0;32m     <a href='vscode-notebook-cell:/c%3A/Users/kenza/OneDrive/Desktop/GitBash/data-collection-pipeline/Milestone_1.ipynb#W1sZmlsZQ%3D%3D?line=44'>45</a>\u001b[0m     current_url \u001b[39m=\u001b[39m \u001b[39mself\u001b[39m\u001b[39m.\u001b[39mdriver\u001b[39m.\u001b[39mcurrent_url\n",
      "\u001b[1;32mc:\\Users\\kenza\\OneDrive\\Desktop\\GitBash\\data-collection-pipeline\\Milestone_1.ipynb Cell 2\u001b[0m in \u001b[0;36mWaterstonesScrapper.navigate_to_manga_page_1\u001b[1;34m(self)\u001b[0m\n\u001b[0;32m     <a href='vscode-notebook-cell:/c%3A/Users/kenza/OneDrive/Desktop/GitBash/data-collection-pipeline/Milestone_1.ipynb#W1sZmlsZQ%3D%3D?line=19'>20</a>\u001b[0m a_tag_links \u001b[39m=\u001b[39m []\n\u001b[0;32m     <a href='vscode-notebook-cell:/c%3A/Users/kenza/OneDrive/Desktop/GitBash/data-collection-pipeline/Milestone_1.ipynb#W1sZmlsZQ%3D%3D?line=20'>21</a>\u001b[0m \u001b[39mfor\u001b[39;00m element \u001b[39min\u001b[39;00m manga_a_tag:\n\u001b[1;32m---> <a href='vscode-notebook-cell:/c%3A/Users/kenza/OneDrive/Desktop/GitBash/data-collection-pipeline/Milestone_1.ipynb#W1sZmlsZQ%3D%3D?line=21'>22</a>\u001b[0m     link \u001b[39m=\u001b[39m element\u001b[39m.\u001b[39;49mget_attribute(\u001b[39m'\u001b[39;49m\u001b[39mhref\u001b[39;49m\u001b[39m'\u001b[39;49m)\n\u001b[0;32m     <a href='vscode-notebook-cell:/c%3A/Users/kenza/OneDrive/Desktop/GitBash/data-collection-pipeline/Milestone_1.ipynb#W1sZmlsZQ%3D%3D?line=22'>23</a>\u001b[0m     a_tag_links\u001b[39m.\u001b[39mappend(link)\n\u001b[0;32m     <a href='vscode-notebook-cell:/c%3A/Users/kenza/OneDrive/Desktop/GitBash/data-collection-pipeline/Milestone_1.ipynb#W1sZmlsZQ%3D%3D?line=23'>24</a>\u001b[0m html_links\u001b[39m=\u001b[39m[]\n",
      "File \u001b[1;32mc:\\Users\\kenza\\AppData\\Local\\Programs\\Python\\Python310\\lib\\site-packages\\selenium\\webdriver\\remote\\webelement.py:172\u001b[0m, in \u001b[0;36mWebElement.get_attribute\u001b[1;34m(self, name)\u001b[0m\n\u001b[0;32m    170\u001b[0m \u001b[39mif\u001b[39;00m getAttribute_js \u001b[39mis\u001b[39;00m \u001b[39mNone\u001b[39;00m:\n\u001b[0;32m    171\u001b[0m     _load_js()\n\u001b[1;32m--> 172\u001b[0m attribute_value \u001b[39m=\u001b[39m \u001b[39mself\u001b[39;49m\u001b[39m.\u001b[39;49mparent\u001b[39m.\u001b[39;49mexecute_script(\n\u001b[0;32m    173\u001b[0m     \u001b[39m\"\u001b[39;49m\u001b[39mreturn (\u001b[39;49m\u001b[39m%s\u001b[39;49;00m\u001b[39m).apply(null, arguments);\u001b[39;49m\u001b[39m\"\u001b[39;49m \u001b[39m%\u001b[39;49m getAttribute_js,\n\u001b[0;32m    174\u001b[0m     \u001b[39mself\u001b[39;49m, name)\n\u001b[0;32m    175\u001b[0m \u001b[39mreturn\u001b[39;00m attribute_value\n",
      "File \u001b[1;32mc:\\Users\\kenza\\AppData\\Local\\Programs\\Python\\Python310\\lib\\site-packages\\selenium\\webdriver\\remote\\webdriver.py:492\u001b[0m, in \u001b[0;36mWebDriver.execute_script\u001b[1;34m(self, script, *args)\u001b[0m\n\u001b[0;32m    489\u001b[0m converted_args \u001b[39m=\u001b[39m \u001b[39mlist\u001b[39m(args)\n\u001b[0;32m    490\u001b[0m command \u001b[39m=\u001b[39m Command\u001b[39m.\u001b[39mW3C_EXECUTE_SCRIPT\n\u001b[1;32m--> 492\u001b[0m \u001b[39mreturn\u001b[39;00m \u001b[39mself\u001b[39;49m\u001b[39m.\u001b[39;49mexecute(command, {\n\u001b[0;32m    493\u001b[0m     \u001b[39m'\u001b[39;49m\u001b[39mscript\u001b[39;49m\u001b[39m'\u001b[39;49m: script,\n\u001b[0;32m    494\u001b[0m     \u001b[39m'\u001b[39;49m\u001b[39margs\u001b[39;49m\u001b[39m'\u001b[39;49m: converted_args})[\u001b[39m'\u001b[39m\u001b[39mvalue\u001b[39m\u001b[39m'\u001b[39m]\n",
      "File \u001b[1;32mc:\\Users\\kenza\\AppData\\Local\\Programs\\Python\\Python310\\lib\\site-packages\\selenium\\webdriver\\remote\\webdriver.py:429\u001b[0m, in \u001b[0;36mWebDriver.execute\u001b[1;34m(self, driver_command, params)\u001b[0m\n\u001b[0;32m    427\u001b[0m response \u001b[39m=\u001b[39m \u001b[39mself\u001b[39m\u001b[39m.\u001b[39mcommand_executor\u001b[39m.\u001b[39mexecute(driver_command, params)\n\u001b[0;32m    428\u001b[0m \u001b[39mif\u001b[39;00m response:\n\u001b[1;32m--> 429\u001b[0m     \u001b[39mself\u001b[39;49m\u001b[39m.\u001b[39;49merror_handler\u001b[39m.\u001b[39;49mcheck_response(response)\n\u001b[0;32m    430\u001b[0m     response[\u001b[39m'\u001b[39m\u001b[39mvalue\u001b[39m\u001b[39m'\u001b[39m] \u001b[39m=\u001b[39m \u001b[39mself\u001b[39m\u001b[39m.\u001b[39m_unwrap_value(\n\u001b[0;32m    431\u001b[0m         response\u001b[39m.\u001b[39mget(\u001b[39m'\u001b[39m\u001b[39mvalue\u001b[39m\u001b[39m'\u001b[39m, \u001b[39mNone\u001b[39;00m))\n\u001b[0;32m    432\u001b[0m     \u001b[39mreturn\u001b[39;00m response\n",
      "File \u001b[1;32mc:\\Users\\kenza\\AppData\\Local\\Programs\\Python\\Python310\\lib\\site-packages\\selenium\\webdriver\\remote\\errorhandler.py:243\u001b[0m, in \u001b[0;36mErrorHandler.check_response\u001b[1;34m(self, response)\u001b[0m\n\u001b[0;32m    241\u001b[0m         alert_text \u001b[39m=\u001b[39m value[\u001b[39m'\u001b[39m\u001b[39malert\u001b[39m\u001b[39m'\u001b[39m]\u001b[39m.\u001b[39mget(\u001b[39m'\u001b[39m\u001b[39mtext\u001b[39m\u001b[39m'\u001b[39m)\n\u001b[0;32m    242\u001b[0m     \u001b[39mraise\u001b[39;00m exception_class(message, screen, stacktrace, alert_text)  \u001b[39m# type: ignore[call-arg]  # mypy is not smart enough here\u001b[39;00m\n\u001b[1;32m--> 243\u001b[0m \u001b[39mraise\u001b[39;00m exception_class(message, screen, stacktrace)\n",
      "\u001b[1;31mNoSuchWindowException\u001b[0m: Message: no such window: target window already closed\nfrom unknown error: web view not found\n  (Session info: chrome=107.0.5304.107)\nStacktrace:\nBacktrace:\n\tOrdinal0 [0x00A9ACD3+2075859]\n\tOrdinal0 [0x00A2EE61+1633889]\n\tOrdinal0 [0x0092B7BD+571325]\n\tOrdinal0 [0x00912E1A+470554]\n\tOrdinal0 [0x0097AA0B+895499]\n\tOrdinal0 [0x0098AC96+961686]\n\tOrdinal0 [0x00977136+880950]\n\tOrdinal0 [0x0094FEFD+720637]\n\tOrdinal0 [0x00950F3F+724799]\n\tGetHandleVerifier [0x00D4EED2+2769538]\n\tGetHandleVerifier [0x00D40D95+2711877]\n\tGetHandleVerifier [0x00B2A03A+521194]\n\tGetHandleVerifier [0x00B28DA0+516432]\n\tOrdinal0 [0x00A3682C+1665068]\n\tOrdinal0 [0x00A3B128+1683752]\n\tOrdinal0 [0x00A3B215+1683989]\n\tOrdinal0 [0x00A46484+1729668]\n\tBaseThreadInitThunk [0x75F1FEF9+25]\n\tRtlGetAppContainerNamedObjectPath [0x773F7BBE+286]\n\tRtlGetAppContainerNamedObjectPath [0x773F7B8E+238]\n"
     ]
    }
   ],
   "source": [
    "class WaterstonesScrapper:\n",
    "    def __init__(self,):\n",
    "        self.driver = webdriver.Chrome() \n",
    "        self.driver.get(\"https://www.waterstones.com/\")\n",
    "\n",
    "    def accept_cookies(self):\n",
    "            try:\n",
    "                accept_cookies_button = self.driver.find_element(by=By.XPATH, value='//*[@id=\"onetrust-accept-btn-handler\"]')\n",
    "                accept_cookies_button.click()\n",
    "                time.sleep(1)\n",
    "            except AttributeError: \n",
    "                accept_cookies_button = self.driver.find_element(by=By.XPATH, value='//*[@id=\"onetrust-accept-btn-handler\"]')\n",
    "                accept_cookies_button.click()\n",
    "                time.sleep(1)\n",
    "            except:\n",
    "                pass\n",
    "\n",
    "    def navigate_to_manga_page_1(self):\n",
    "        manga_a_tag =  self.driver.find_elements(by=By.XPATH, value='//a[@class=\"name\"]')\n",
    "        a_tag_links = []\n",
    "        for element in manga_a_tag:\n",
    "            link = element.get_attribute('href')\n",
    "            a_tag_links.append(link)\n",
    "        html_links=[]\n",
    "        for element in a_tag_links:\n",
    "            if element =='https://www.waterstones.com/category/graphic-novels-manga/manga':\n",
    "                html_links.append(element)\n",
    "        manga_link = html_links[0]\n",
    "        self.driver.get(manga_link)\n",
    "        navigate_to_see_more_manga_page = self.driver.find_elements(by=By.XPATH, value='//a[@class=\"button button-teal\"]')\n",
    "        see_more_manga_page_list = []\n",
    "        for element in navigate_to_see_more_manga_page:\n",
    "            link = element.get_attribute('href') \n",
    "            see_more_manga_page_list.append(link)\n",
    "        manga_page = []\n",
    "        for element in see_more_manga_page_list:\n",
    "            if element == 'https://www.waterstones.com/category/graphic-novels-manga/manga?page=1':\n",
    "                manga_page.append(element)\n",
    "        manga_page_1 = manga_page[0]\n",
    "        return(manga_page_1)\n",
    "\n",
    "    def get_links_manga_page_1(self):\n",
    "        navigate_to_manga_page_1 = self.navigate_to_manga_page_1()\n",
    "        self.driver.get(navigate_to_manga_page_1)\n",
    "        current_url = self.driver.current_url\n",
    "        time.sleep(3)\n",
    "        self.driver.find_element('xpath', '//body').send_keys(Keys.END)\n",
    "        manga_page_container = self.driver.find_elements(by=By.XPATH,value='//div[@class=\"image-wrap\"]/a')\n",
    "        list_of_html_links = []\n",
    "        for element in manga_page_container:\n",
    "            link = element.get_attribute('href')\n",
    "            list_of_html_links.append(link)\n",
    "        self.driver.get(link)\n",
    "        return (list_of_html_links,current_url)\n",
    "    \n",
    "    def get_links_manga_page_2_to_page_5(self,):\n",
    "        list_of_html_links,current_url = self.get_links_manga_page_1()\n",
    "        current_url = current_url[0:63]\n",
    "        current_url = current_url + \"/page/\"\n",
    "        list_of_manga_page_links = []\n",
    "        for element in range (2,6):\n",
    "            list_of_manga_page_links.append(f'{current_url}{element}')\n",
    "            self.driver.get(current_url)\n",
    "        for element in list_of_manga_page_links:\n",
    "            self.driver.get(element)\n",
    "            time.sleep(3)\n",
    "            self.driver.find_element('xpath', '//body').send_keys(Keys.END)\n",
    "            manga_container = self.driver.find_elements(by=By.XPATH,value='//div[@class=\"image-wrap\"]/a')\n",
    "            for element in manga_container:\n",
    "                link = element.get_attribute('href')\n",
    "                list_of_html_links.append(link)\n",
    "        \n",
    "        self.driver.quit()\n",
    "\n",
    "        return (list_of_html_links)\n",
    "    \n",
    "def scrapper_method():\n",
    "        scrapper = WaterstonesScrapper()\n",
    "        scrapper.accept_cookies()\n",
    "        scrapper.navigate_to_manga_page_1()\n",
    "        scrapper.get_links_manga_page_1()\n",
    "        scrapper.get_links_manga_page_2_to_page_5()\n",
    "\n",
    "if __name__ == '__main__':\n",
    "    scrapper_method()"
   ]
  }
 ],
 "metadata": {
  "kernelspec": {
   "display_name": "Python 3.10.5 64-bit",
   "language": "python",
   "name": "python3"
  },
  "language_info": {
   "codemirror_mode": {
    "name": "ipython",
    "version": 3
   },
   "file_extension": ".py",
   "mimetype": "text/x-python",
   "name": "python",
   "nbconvert_exporter": "python",
   "pygments_lexer": "ipython3",
   "version": "3.10.5"
  },
  "orig_nbformat": 4,
  "vscode": {
   "interpreter": {
    "hash": "38f9fe4226d84d9e13099a048607a3090ac78dd253a8865dfaa4f1df58d270e1"
   }
  }
 },
 "nbformat": 4,
 "nbformat_minor": 2
}
